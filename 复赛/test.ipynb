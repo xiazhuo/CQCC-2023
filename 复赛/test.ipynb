{
 "cells": [
  {
   "cell_type": "code",
   "execution_count": 25,
   "metadata": {},
   "outputs": [],
   "source": [
    "from pyqpanda import *\n",
    "import numpy as np\n",
    "from math import sqrt\n",
    "import scipy as sp\n",
    "%matplotlib inline\n",
    "ket0 = np.array([[1],[0]],dtype=complex)\n",
    "ket1 = np.array([[0],[1]],dtype=complex)\n",
    "\n",
    "def question1(quantum_state_vector,qlist):\n",
    "    cir = pq.QCircuit()\n",
    "    # create a circuit that can create the input state by $U|0\\rangle = |\\psi\\rangle$, and only use basic gates.\n",
    "    return cir\n",
    "\n",
    "\n",
    "def question2(unitary_matrix,qlist):\n",
    "    cir = pq.QCircuit()\n",
    "    # create a circuit which matrix form is same to the input matrix, and only use basic gates\n",
    "    cir << pq.I(qlist)\n",
    "    return cir"
   ]
  },
  {
   "cell_type": "code",
   "execution_count": null,
   "metadata": {},
   "outputs": [],
   "source": []
  },
  {
   "cell_type": "code",
   "execution_count": 2,
   "metadata": {},
   "outputs": [
    {
     "ename": "NameError",
     "evalue": "name 'E' is not defined",
     "output_type": "error",
     "traceback": [
      "\u001b[1;31m---------------------------------------------------------------------------\u001b[0m",
      "\u001b[1;31mNameError\u001b[0m                                 Traceback (most recent call last)",
      "\u001b[1;32m<ipython-input-2-3200b8b4f0fa>\u001b[0m in \u001b[0;36m<module>\u001b[1;34m\u001b[0m\n\u001b[0;32m     16\u001b[0m \u001b[1;32mif\u001b[0m \u001b[0m__name__\u001b[0m \u001b[1;33m==\u001b[0m \u001b[1;34m\"__main__\"\u001b[0m\u001b[1;33m:\u001b[0m\u001b[1;33m\u001b[0m\u001b[1;33m\u001b[0m\u001b[0m\n\u001b[0;32m     17\u001b[0m     \u001b[0mtmp_dict\u001b[0m \u001b[1;33m=\u001b[0m \u001b[1;33m{\u001b[0m\u001b[1;34m\"Z0\"\u001b[0m\u001b[1;33m:\u001b[0m\u001b[1;36m0\u001b[0m\u001b[1;33m,\u001b[0m\u001b[1;34m\"Z1\"\u001b[0m\u001b[1;33m:\u001b[0m\u001b[1;36m0\u001b[0m\u001b[1;33m,\u001b[0m\u001b[1;34m\"Z2\"\u001b[0m\u001b[1;33m:\u001b[0m\u001b[1;36m0\u001b[0m\u001b[1;33m,\u001b[0m\u001b[1;34m\"Z3\"\u001b[0m\u001b[1;33m:\u001b[0m\u001b[1;36m0\u001b[0m\u001b[1;33m,\u001b[0m\u001b[1;34m\"Z0 Z1\"\u001b[0m\u001b[1;33m:\u001b[0m\u001b[1;36m0\u001b[0m\u001b[1;33m,\u001b[0m\u001b[1;34m\"Z0 Z2\"\u001b[0m\u001b[1;33m:\u001b[0m\u001b[1;36m0\u001b[0m\u001b[1;33m,\u001b[0m\u001b[1;34m\"Z1 Z2\"\u001b[0m\u001b[1;33m:\u001b[0m\u001b[1;36m0\u001b[0m\u001b[1;33m,\u001b[0m\u001b[1;34m\"Z2 Z3\"\u001b[0m\u001b[1;33m:\u001b[0m\u001b[1;36m0\u001b[0m\u001b[1;33m}\u001b[0m\u001b[1;33m\u001b[0m\u001b[1;33m\u001b[0m\u001b[0m\n\u001b[1;32m---> 18\u001b[1;33m     \u001b[1;32mfor\u001b[0m \u001b[1;33m(\u001b[0m\u001b[0mu\u001b[0m\u001b[1;33m,\u001b[0m\u001b[0mv\u001b[0m\u001b[1;33m)\u001b[0m \u001b[1;32min\u001b[0m \u001b[0mE\u001b[0m\u001b[1;33m:\u001b[0m\u001b[1;33m\u001b[0m\u001b[1;33m\u001b[0m\u001b[0m\n\u001b[0m\u001b[0;32m     19\u001b[0m         \u001b[0mtmp_dict\u001b[0m\u001b[1;33m[\u001b[0m\u001b[1;34m\"Z{} Z{}\"\u001b[0m\u001b[1;33m.\u001b[0m\u001b[0mformat\u001b[0m\u001b[1;33m(\u001b[0m\u001b[0mu\u001b[0m\u001b[1;33m,\u001b[0m \u001b[0mv\u001b[0m\u001b[1;33m)\u001b[0m\u001b[1;33m]\u001b[0m \u001b[1;33m+=\u001b[0m \u001b[1;36m3\u001b[0m\u001b[1;33m/\u001b[0m\u001b[1;36m4\u001b[0m\u001b[1;33m\u001b[0m\u001b[1;33m\u001b[0m\u001b[0m\n\u001b[0;32m     20\u001b[0m         \u001b[0mtmp_dict\u001b[0m\u001b[1;33m[\u001b[0m\u001b[1;34m\"Z{}\"\u001b[0m\u001b[1;33m.\u001b[0m\u001b[0mformat\u001b[0m\u001b[1;33m(\u001b[0m\u001b[0mu\u001b[0m\u001b[1;33m)\u001b[0m\u001b[1;33m]\u001b[0m \u001b[1;33m+=\u001b[0m \u001b[1;36m3\u001b[0m\u001b[1;33m/\u001b[0m\u001b[1;36m4\u001b[0m\u001b[1;33m\u001b[0m\u001b[1;33m\u001b[0m\u001b[0m\n",
      "\u001b[1;31mNameError\u001b[0m: name 'E' is not defined"
     ]
    }
   ],
   "source": [
    "# 一层ansatz线路\n",
    "def oneCircuit(qlist, beta, gamma):\n",
    "    vqc = VariationalQuantumCircuit()\n",
    "    for (u, v) in E:\n",
    "        vqc.insert(VariationalQuantumGate_CNOT(qlist[u], qlist[v]))\n",
    "        vqc.insert(VariationalQuantumGate_RZ(qlist[v], tmp_dict[\"Z{} Z{}\".format(u, v)] * 2 * gamma))\n",
    "        vqc.insert(VariationalQuantumGate_CNOT(qlist[u], qlist[v]))\n",
    "    for v in V:\n",
    "        vqc.insert(VariationalQuantumGate_RZ(qlist[v], tmp_dict[\"Z{}\".format(v)] * 2 * gamma))\n",
    "\n",
    "    for q in qlist:\n",
    "        vqc.insert(VariationalQuantumGate_RX(q, 2 * beta))\n",
    "    return vqc\n",
    "\n",
    "\n",
    "if __name__ == \"__main__\":\n",
    "    qubit_num = 3\n",
    "    psi_target = np.zeros((2**qubit_num,1),dtype=complex)\n",
    "    psi_target[1][0] = psi_target[2][0] = psi_target[4][0] = 1\n",
    "    psi_target /= sqrt(3)\n",
    "    qvm = CPUQVM()\n",
    "    qvm.init_qvm()\n",
    "    qubits = qvm.qAlloc_many(qubit_num)\n",
    "\n",
    "    # 初始化待优化参数\n",
    "    paras = var(1/2*np.ones((qubit_num*2, 4), dtype='float64'), True)\n",
    "    \n",
    "    # 搭建可变量子线路（含参）\n",
    "    vqc = VariationalQuantumCircuit()\n",
    "    \n",
    "    vqc.insert(VQG_U4_batch(qubits[0],paras[0][0],paras[0][1],paras[0][2],paras[0][3]) << CNOT(qubits[0],qubits[1]) << U4(qubits[0],paras[1][0],paras[1][1],paras[1][2],paras[1][3])\\\n",
    "    << U4(qubits[1],paras[2][0],paras[2][1],paras[2][2],paras[2][3]) << CNOT(qubits[1],qubits[2]) << U4(qubits[1],paras[3][0],paras[3][1],paras[3][2],paras[3][3])\\\n",
    "    << U4(qubits[2],paras[4][0],paras[4][1],paras[4][2],paras[4][3]) << CNOT(qubits[2],qubits[0]) << U4(qubits[2],paras[5][0],paras[5][1],paras[5][2],paras[5][3])\\\n",
    "\n",
    "\n",
    "    # 计算vertex cover中的个数（哈密顿量的期望）\n",
    "    loss = \n",
    "    \n",
    "    # 使用梯度下降法最小化损失函数\n",
    "    optimizer = MomentumOptimizer.minimize(loss, 1e-3, 0.9)\n",
    "    leaves = optimizer.get_variables()    # 获得所有可训练的参数\n",
    "\n",
    "    # 训练迭代100次\n",
    "    for i in range(100):\n",
    "        optimizer.run(leaves, 0)\n",
    "        num = optimizer.get_loss()\n",
    "        if i % 10 == 0:\n",
    "            print(\"train step: \", i, \" num:\", num)\n",
    "\n",
    "    # 输出优化后的参数\n",
    "    print('beta:', eval(beta).reshape(-1))\n",
    "    print('gamma:', eval(gamma).reshape(-1))\n",
    "\n",
    "    # 验证结果\n",
    "    prog = QProg()\n",
    "    qcir = vqc.feed()\n",
    "    prog.insert(qcir)\n",
    "    result = qvm.prob_run_dict(prog, qubits, 2)\n",
    "    print(result)"
   ]
  },
  {
   "cell_type": "code",
   "execution_count": 51,
   "metadata": {},
   "outputs": [
    {
     "name": "stdout",
     "output_type": "stream",
     "text": [
      "随机生成目标态\n",
      "初始化变分参数并建立优化器\n",
      "建立非参数门\n",
      "开始优化\n"
     ]
    },
    {
     "ename": "AttributeError",
     "evalue": "'numpy.float64' object has no attribute 'backward'",
     "output_type": "error",
     "traceback": [
      "\u001b[1;31m---------------------------------------------------------------------------\u001b[0m",
      "\u001b[1;31mAttributeError\u001b[0m                            Traceback (most recent call last)",
      "\u001b[1;32m<ipython-input-51-846f6aeba438>\u001b[0m in \u001b[0;36m<module>\u001b[1;34m\u001b[0m\n\u001b[0;32m     36\u001b[0m     \u001b[1;31m# 计算loss并作反向传播与梯度优化\u001b[0m\u001b[1;33m\u001b[0m\u001b[1;33m\u001b[0m\u001b[1;33m\u001b[0m\u001b[0m\n\u001b[0;32m     37\u001b[0m     \u001b[0mloss\u001b[0m \u001b[1;33m=\u001b[0m \u001b[1;36m1\u001b[0m \u001b[1;33m-\u001b[0m \u001b[0mnp\u001b[0m\u001b[1;33m.\u001b[0m\u001b[0mlinalg\u001b[0m\u001b[1;33m.\u001b[0m\u001b[0mnorm\u001b[0m\u001b[1;33m(\u001b[0m\u001b[0mpsi\u001b[0m\u001b[1;33m.\u001b[0m\u001b[0mT\u001b[0m\u001b[1;33m.\u001b[0m\u001b[0mconjugate\u001b[0m\u001b[1;33m(\u001b[0m\u001b[1;33m)\u001b[0m\u001b[1;33m.\u001b[0m\u001b[0mdot\u001b[0m\u001b[1;33m(\u001b[0m\u001b[0mpsi_target\u001b[0m\u001b[1;33m)\u001b[0m\u001b[1;33m)\u001b[0m\u001b[1;33m\u001b[0m\u001b[1;33m\u001b[0m\u001b[0m\n\u001b[1;32m---> 38\u001b[1;33m     \u001b[0mloss\u001b[0m\u001b[1;33m.\u001b[0m\u001b[0mbackward\u001b[0m\u001b[1;33m(\u001b[0m\u001b[1;33m)\u001b[0m\u001b[1;33m\u001b[0m\u001b[1;33m\u001b[0m\u001b[0m\n\u001b[0m\u001b[0;32m     39\u001b[0m     \u001b[0moptimizer\u001b[0m\u001b[1;33m.\u001b[0m\u001b[0mstep\u001b[0m\u001b[1;33m(\u001b[0m\u001b[1;33m)\u001b[0m\u001b[1;33m\u001b[0m\u001b[1;33m\u001b[0m\u001b[0m\n\u001b[0;32m     40\u001b[0m     \u001b[0moptimizer\u001b[0m\u001b[1;33m.\u001b[0m\u001b[0mzero_grad\u001b[0m\u001b[1;33m(\u001b[0m\u001b[1;33m)\u001b[0m\u001b[1;33m\u001b[0m\u001b[1;33m\u001b[0m\u001b[0m\n",
      "\u001b[1;31mAttributeError\u001b[0m: 'numpy.float64' object has no attribute 'backward'"
     ]
    }
   ],
   "source": [
    "import torch as tc\n",
    "import matplotlib.pylab as plt\n",
    "from torch.optim import Adam\n",
    "\n",
    "lr, it_time = 1e-3, 50  # 初始学习率与迭代总次数\n",
    "\n",
    "print('随机生成目标态')\n",
    "num_qubits = 3\n",
    "psi_target = tc.randn((2**num_qubits, ), dtype=tc.complex128)\n",
    "psi_target /= psi_target.norm()\n",
    "\n",
    "print('初始化变分参数并建立优化器')\n",
    "paras = tc.randn((num_qubits*2, 4), dtype=tc.float64,\n",
    "                 requires_grad=True)\n",
    "optimizer = Adam([paras], lr=lr)\n",
    "\n",
    "print('建立非参数门')\n",
    "loss_rec = tc.zeros(it_time, )\n",
    "\n",
    "print('开始优化')\n",
    "qvm = CPUQVM()\n",
    "qvm.init_qvm()\n",
    "qubits = qvm.qAlloc_many(3)\n",
    "for t in range(it_time):\n",
    "    \n",
    "    prog = QProg()\n",
    "\n",
    "    prog << U4(qubits[0],paras[0][0],paras[0][1],paras[0][2],paras[0][3]) << CNOT(qubits[0],qubits[1]) << U4(qubits[0],paras[1][0],paras[1][1],paras[1][2],paras[1][3])\\\n",
    "        << U4(qubits[1],paras[2][0],paras[2][1],paras[2][2],paras[2][3]) << CNOT(qubits[1],qubits[2]) << U4(qubits[1],paras[3][0],paras[3][1],paras[3][2],paras[3][3])\\\n",
    "        << U4(qubits[2],paras[4][0],paras[4][1],paras[4][2],paras[4][3]) << CNOT(qubits[2],qubits[0]) << U4(qubits[2],paras[5][0],paras[5][1],paras[5][2],paras[5][3])\\\n",
    "    \n",
    "    result = qvm.prob_run_dict(prog, qubits, -1)\n",
    "\n",
    "    psi = np.array(qvm.get_qstate()).reshape(8,1)\n",
    "\n",
    "    # 计算loss并作反向传播与梯度优化\n",
    "    loss = 1 - np.linalg.norm(psi.T.conjugate().dot(psi_target))\n",
    "    loss.backward()\n",
    "    optimizer.step()\n",
    "    optimizer.zero_grad()\n",
    "    loss_rec[t] = loss.item()\n",
    "    if t % 20 == 19:\n",
    "        print('第%d次迭代后，loss = %g' % (t+1, loss.item()))\n",
    "\n",
    "qvm.finalize()\n",
    "plt.plot(loss_rec)\n",
    "plt.xlabel('iteration time')\n",
    "plt.ylabel('loss')\n",
    "plt.show()"
   ]
  },
  {
   "cell_type": "code",
   "execution_count": 11,
   "metadata": {},
   "outputs": [
    {
     "data": {
      "text/plain": [
       "<qiskit.circuit.instructionset.InstructionSet at 0x156fd365580>"
      ]
     },
     "execution_count": 11,
     "metadata": {},
     "output_type": "execute_result"
    },
    {
     "name": "stdout",
     "output_type": "stream",
     "text": [
      "[0.        +0.25j       0.35355339+0.j         0.25      +0.25j\n",
      " 0.        +0.j         0.        +0.j         0.35355339+0.70710678j\n",
      " 0.25      -0.j         0.        +0.j        ]\n"
     ]
    },
    {
     "data": {
      "text/html": [
       "<pre style=\"word-wrap: normal;white-space: pre;background: #fff0;line-height: 1.1;font-family: &quot;Courier New&quot;,Courier,monospace\">     ┌───────────────────────────────────────────────────────────────────┐\n",
       "q_0: ┤0                                                                  ├\n",
       "     │                                                                   │\n",
       "q_1: ┤1 Initialize(0.25j,0.35355,0.25+0.25j,0,0,0.35355+0.70711j,0.25,0) ├\n",
       "     │                                                                   │\n",
       "q_2: ┤2                                                                  ├\n",
       "     └───────────────────────────────────────────────────────────────────┘</pre>"
      ],
      "text/plain": [
       "     ┌───────────────────────────────────────────────────────────────────┐\n",
       "q_0: ┤0                                                                  ├\n",
       "     │                                                                   │\n",
       "q_1: ┤1 Initialize(0.25j,0.35355,0.25+0.25j,0,0,0.35355+0.70711j,0.25,0) ├\n",
       "     │                                                                   │\n",
       "q_2: ┤2                                                                  ├\n",
       "     └───────────────────────────────────────────────────────────────────┘"
      ]
     },
     "execution_count": 11,
     "metadata": {},
     "output_type": "execute_result"
    },
    {
     "data": {
      "text/plain": [
       "1.0000000000000004"
      ]
     },
     "execution_count": 11,
     "metadata": {},
     "output_type": "execute_result"
    }
   ],
   "source": [
    "# 导入包\n",
    "import matplotlib.pyplot as plt\n",
    "%matplotlib inline\n",
    "import numpy as np\n",
    "import math\n",
    "from math import pi\n",
    "from qiskit import QuantumCircuit, ClassicalRegister, QuantumRegister, execute\n",
    "from qiskit.tools.visualization import circuit_drawer\n",
    "from qiskit.quantum_info import state_fidelity\n",
    "from qiskit import BasicAer\n",
    "# 实现一个单元格有多个输出，不要忘记！！！\n",
    "from IPython.core.interactiveshell import InteractiveShell\n",
    "InteractiveShell.ast_node_interactivity = 'all'\n",
    "np.set_printoptions(precision=8)\n",
    "np.set_printoptions(suppress=True)\n",
    " \n",
    " \n",
    " \n",
    "# Initializing a three-qubit quantum state\n",
    "desired_vector = [\n",
    "    1 / math.sqrt(16) * complex(0, 1),\n",
    "    1 / math.sqrt(8) * complex(1, 0),\n",
    "    1 / math.sqrt(16) * complex(1, 1),\n",
    "    0,\n",
    "    0,\n",
    "    1 / math.sqrt(8) * complex(1, 2),\n",
    "    1 / math.sqrt(16) * complex(1, 0),\n",
    "    0]\n",
    " \n",
    "# Create quantumcircuit\n",
    "qc = QuantumCircuit(3)\n",
    "    \n",
    "#量子态初始化，将第1,2,3个qubit转换为我们想要的叠加态desired_vector\n",
    "qc.initialize(desired_vector, [0,1,2])\n",
    "\n",
    "# 指定模拟器statevector_simulator\n",
    "backend = BasicAer.get_backend('statevector_simulator')\n",
    "\n",
    "# 执行线路\n",
    "job = execute(qc,backend)\n",
    "\n",
    "#获取状态向量，get_statevector和statevector_simulator是对应的\n",
    "qc_state = job.result().get_statevector(qc)\n",
    "print(qc_state)\n",
    "qc.draw()\n",
    "#计算保真度\n",
    "state_fidelity(desired_vector,qc_state)"
   ]
  },
  {
   "cell_type": "code",
   "execution_count": 13,
   "metadata": {},
   "outputs": [
    {
     "data": {
      "text/plain": [
       "qiskit.circuit.quantumcircuit.QuantumCircuit"
      ]
     },
     "execution_count": 13,
     "metadata": {},
     "output_type": "execute_result"
    }
   ],
   "source": [
    "type(qc)"
   ]
  }
 ],
 "metadata": {
  "kernelspec": {
   "display_name": "Python [conda env:root] *",
   "language": "python",
   "name": "conda-root-py"
  },
  "language_info": {
   "codemirror_mode": {
    "name": "ipython",
    "version": 3
   },
   "file_extension": ".py",
   "mimetype": "text/x-python",
   "name": "python",
   "nbconvert_exporter": "python",
   "pygments_lexer": "ipython3",
   "version": "3.8.5"
  },
  "toc": {
   "base_numbering": 1,
   "nav_menu": {},
   "number_sections": true,
   "sideBar": true,
   "skip_h1_title": false,
   "title_cell": "Table of Contents",
   "title_sidebar": "Contents",
   "toc_cell": false,
   "toc_position": {},
   "toc_section_display": true,
   "toc_window_display": false
  },
  "varInspector": {
   "cols": {
    "lenName": 16,
    "lenType": 16,
    "lenVar": 40
   },
   "kernels_config": {
    "python": {
     "delete_cmd_postfix": "",
     "delete_cmd_prefix": "del ",
     "library": "var_list.py",
     "varRefreshCmd": "print(var_dic_list())"
    },
    "r": {
     "delete_cmd_postfix": ") ",
     "delete_cmd_prefix": "rm(",
     "library": "var_list.r",
     "varRefreshCmd": "cat(var_dic_list()) "
    }
   },
   "types_to_exclude": [
    "module",
    "function",
    "builtin_function_or_method",
    "instance",
    "_Feature"
   ],
   "window_display": false
  }
 },
 "nbformat": 4,
 "nbformat_minor": 4
}
